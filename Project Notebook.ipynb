{
 "cells": [
  {
   "cell_type": "code",
   "execution_count": 1,
   "metadata": {
    "collapsed": true
   },
   "outputs": [],
   "source": [
    "import numpy as np\n",
    "from PIL import ImageGrab\n",
    "from PIL import Image\n",
    "import cv2\n",
    "import io\n",
    "import time\n",
    "%matplotlib inline \n",
    "from matplotlib import pyplot as plt\n",
    "plt.rcParams['figure.figsize'] = (15, 9)\n",
    "import seaborn as sns\n",
    "import pandas as pd\n",
    "import numpy as np\n",
    "from IPython.display import clear_output\n",
    "from random import randint\n"
   ]
  },
  {
   "cell_type": "code",
   "execution_count": 2,
   "metadata": {
    "collapsed": true,
    "scrolled": true
   },
   "outputs": [],
   "source": [
    "import os\n",
    "from selenium import webdriver\n",
    "from selenium.webdriver.chrome.options import Options\n",
    "from selenium.webdriver.common.keys import Keys\n",
    "from selenium.webdriver.common.action_chains import ActionChains\n",
    "game_url = \"game/dino.html\"\n",
    "chrome_driver_path = \"../chromedriver.exe\"\n",
    "class Game:\n",
    "    def __init__(self,custom_config=True):\n",
    "        chrome_options = Options()\n",
    "        chrome_options.add_argument(\"disable-infobars\")\n",
    "        self._driver = webdriver.Chrome(executable_path = chrome_driver_path,chrome_options=chrome_options)\n",
    "        self._driver.set_window_position(x=-10,y=0)\n",
    "        self._driver.set_window_size(200, 300)\n",
    "        self._driver.get(os.path.abspath(game_url))\n",
    "        if custom_config:\n",
    "            self._driver.execute_script(\"Runner.config.ACCELERATION=0\")\n",
    "    def get_crashed(self):\n",
    "        return self._driver.execute_script(\"return Runner.instance_.crashed\")\n",
    "    def get_playing(self):\n",
    "        return self._driver.execute_script(\"return Runner.instance_.playing\")\n",
    "    def restart(self):\n",
    "        self._driver.execute_script(\"Runner.instance_.config.CLEAR_TIME = \"+ str(randint(1, 999)))\n",
    "        self._driver.execute_script(\"Runner.instance_.restart()\")\n",
    "#         self._driver.refresh()\n",
    "#         self.press_up()\n",
    "        time.sleep(0.25)\n",
    "    def press_up(self):\n",
    "        self._driver.find_element_by_tag_name(\"body\").send_keys(Keys.ARROW_UP)\n",
    "    def press_down(self):\n",
    "        self._driver.find_element_by_tag_name(\"body\").send_keys(Keys.ARROW_DOWN)\n",
    "    def get_score(self):\n",
    "        score_array = self._driver.execute_script(\"return Runner.instance_.distanceMeter.digits\")\n",
    "        score = ''.join(score_array)\n",
    "        return int(score)\n",
    "    def pause(self):\n",
    "        return self._driver.execute_script(\"return Runner.instance_.stop()\")\n",
    "    def resume(self):\n",
    "        return self._driver.execute_script(\"return Runner.instance_.play()\")\n",
    "    def end(self):\n",
    "        self._driver.close()"
   ]
  },
  {
   "cell_type": "code",
   "execution_count": 3,
   "metadata": {
    "collapsed": true
   },
   "outputs": [],
   "source": [
    "class DinoAgent:\n",
    "    def __init__(self,game):\n",
    "        self._game = game;\n",
    "        self.jump();\n",
    "        time.sleep(.5)\n",
    "    def is_running(self):\n",
    "        return self._game.get_playing()\n",
    "    def is_crashed(self):\n",
    "        return self._game.get_crashed()\n",
    "    def jump(self):\n",
    "        self._game.press_up()\n",
    "    def duck(self):\n",
    "        self._game.press_down()"
   ]
  },
  {
   "cell_type": "code",
   "execution_count": 4,
   "metadata": {
    "collapsed": true
   },
   "outputs": [],
   "source": [
    "#processing image as required\n",
    "def process_img(image):\n",
    "    #game is already in grey scale canvas, canny to get only edges and reduce unwanted objects(clouds)\n",
    "#     image = cv2.Canny(image, threshold1 = 100, threshold2 = 200)\n",
    "#     image = image[10:140,0:200] #img[y:y+h, x:x+w]\n",
    "#     image = resized_image = cv2.resize(image, (80, 80)) \n",
    "    image = cv2.resize(image, (0,0), fx = 0.15, fy = 0.10)\n",
    "    image = image[2:38,10:50] #img[y:y+h, x:x+w]\n",
    "    image = cv2.Canny(image, threshold1 = 200, threshold2 = 200)\n",
    "    \n",
    "    return  image"
   ]
  },
  {
   "cell_type": "code",
   "execution_count": 5,
   "metadata": {
    "collapsed": true
   },
   "outputs": [],
   "source": [
    "def grab_screen(_driver = None):\n",
    "    screen =  np.array(ImageGrab.grab(bbox=(0,180,400,400)))\n",
    "    image = process_img(screen)\n",
    "    if _driver!=None:\n",
    "        image = _driver.get_screenshot_as_png()\n",
    "    return image"
   ]
  },
  {
   "cell_type": "code",
   "execution_count": 6,
   "metadata": {
    "collapsed": true
   },
   "outputs": [],
   "source": [
    "# print(grab_screen().shape)\n",
    "# game = Game()\n",
    "# dino = DinoAgent(game)\n",
    "# last_time = time.time()\n",
    "# while(True):\n",
    "    \n",
    "# # #     print('loop took {} seconds'.format(time.time()-last_time))\n",
    "# # #     last_time = time.time()\n",
    "# # #     cv2.imwrite(\"./img_data/dino\"+str(time())+\".jpg\",image)\n",
    "# # #     dino.duck()\n",
    "# #     #exit on q pres\n",
    "# # #     print('{0} {1} '.format(r_t,end_t))\n",
    "# # #     cv2.imshow('window',game.grab_screen())\n",
    "    \n",
    "#     image = grab_screen()\n",
    "#     cv2.imshow('window',image)\n",
    "#     print(image.shape[0])\n",
    "# #     cv2.destroyAllWindows()\n",
    "\n",
    "# # #     from matplotlib import pyplot as plt\n",
    "# # #     plt.imshow(image)\n",
    "# # #     plt.title('my picture')\n",
    "# # #     plt.show()\n",
    "\n",
    "# # #     grab_screen()\n",
    "# #     if(dino.is_crashed()):\n",
    "# #         #jumping starts the game again if dino has crashed\n",
    "# # #         temp = (game.get_score())\n",
    "# #         game.restart()\n",
    "#     if (cv2.waitKey(25) & 0xFF == ord('q')):\n",
    "#         cv2.destroyAllWindows()\n",
    "#         game.end()\n",
    "# #         cv2.imwrite('dino.jpg',image)\n",
    "#         break"
   ]
  },
  {
   "cell_type": "code",
   "execution_count": 7,
   "metadata": {
    "collapsed": true
   },
   "outputs": [],
   "source": [
    "import pickle\n",
    "def save_obj(obj, name ):\n",
    "    with open('objects/'+ name + '.pkl', 'wb') as f:\n",
    "        pickle.dump(obj, f, pickle.HIGHEST_PROTOCOL)\n",
    "\n",
    "def load_obj(name ):\n",
    "    with open('objects/' + name + '.pkl', 'rb') as f:\n",
    "        return pickle.load(f)"
   ]
  },
  {
   "cell_type": "code",
   "execution_count": null,
   "metadata": {
    "collapsed": true
   },
   "outputs": [],
   "source": []
  },
  {
   "cell_type": "code",
   "execution_count": 8,
   "metadata": {
    "collapsed": true
   },
   "outputs": [],
   "source": [
    "#game parameters\n",
    "ACTIONS = 2 # possible actions: jump, do nothing\n",
    "GAMMA = 0.8 # decay rate of past observations original 0.99\n",
    "OBSERVATION = 20000. # timesteps to observe before training\n",
    "EXPLORE = 50000 #300000. # frames over which to anneal epsilon\n",
    "FINAL_EPSILON = 0.0001 # final value of epsilon\n",
    "INITIAL_EPSILON = 0.1 # starting value of epsilon\n",
    "REPLAY_MEMORY = 50000 # number of previous transitions to remember\n",
    "BATCH = 32 # size of minibatch\n",
    "FRAME_PER_ACTION = 4\n",
    "LEARNING_RATE = 1e-4"
   ]
  },
  {
   "cell_type": "code",
   "execution_count": 9,
   "metadata": {},
   "outputs": [
    {
     "data": {
      "text/plain": [
       "'initial variable caching, done only once'"
      ]
     },
     "execution_count": 9,
     "metadata": {},
     "output_type": "execute_result"
    }
   ],
   "source": [
    "\"\"\"initial variable caching, done only once\"\"\"\n",
    "# save_obj(FINAL_EPSILON,\"epsilon\")\n",
    "# t = 0\n",
    "# save_obj(t,\"time\")\n",
    "# D = deque()\n",
    "# save_obj(D,\"D\")"
   ]
  },
  {
   "cell_type": "code",
   "execution_count": 10,
   "metadata": {
    "collapsed": true
   },
   "outputs": [],
   "source": [
    "img_rows , img_cols = 40,20\n",
    "img_channels = 4 #We stack 4 frames"
   ]
  },
  {
   "cell_type": "code",
   "execution_count": 11,
   "metadata": {
    "collapsed": true
   },
   "outputs": [],
   "source": [
    "def buildmodel():\n",
    "    print(\"Now we build the model\")\n",
    "    model = Sequential()\n",
    "    model.add(Convolution2D(32, 8, 8, subsample=(4, 4), border_mode='same',input_shape=(img_cols,img_rows,img_channels)))  #80*80*4\n",
    "    model.add(Activation('relu'))\n",
    "    model.add(Convolution2D(64, 4, 4, subsample=(2, 2), border_mode='same'))\n",
    "    model.add(Activation('relu'))\n",
    "    model.add(Convolution2D(64, 3, 3, subsample=(1, 1), border_mode='same'))\n",
    "    model.add(Activation('relu'))\n",
    "    model.add(Flatten())\n",
    "    model.add(Dense(512))\n",
    "    model.add(Activation('relu'))\n",
    "    model.add(Dense(ACTIONS))\n",
    "    adam = Adam(lr=LEARNING_RATE)\n",
    "    model.compile(loss='mse',optimizer=adam)\n",
    "    print(\"We finish building the model\")\n",
    "    return model"
   ]
  },
  {
   "cell_type": "code",
   "execution_count": 12,
   "metadata": {
    "collapsed": true
   },
   "outputs": [],
   "source": [
    "def trainNetwork(model,game_state,observe=False):\n",
    "    # open up a game state to communicate with emulator\n",
    "    last_time = time.time()\n",
    "    # store the previous observations in replay memory\n",
    "    D = load_obj(\"D\") #deque()\n",
    "    # get the first state by doing nothing and preprocess the image to 80x80x4\n",
    "    do_nothing = np.zeros(ACTIONS)\n",
    "    do_nothing[0] =1 \n",
    "    x_t, r_0, terminal = game_state.get_state(do_nothing)\n",
    "    \n",
    "\n",
    "    s_t = np.stack((x_t, x_t, x_t, x_t), axis=2)\n",
    "    \n",
    "\n",
    "    #In Keras, need to reshape\n",
    "    s_t = s_t.reshape(1, s_t.shape[0], s_t.shape[1], s_t.shape[2])  #1*80*80*4\n",
    "    initial_state = s_t\n",
    "\n",
    "    if observe :#args['mode'] == 'Run':\n",
    "        OBSERVE = 999999999    #We keep observe, never train\n",
    "        epsilon = FINAL_EPSILON\n",
    "        print (\"Now we load weight\")\n",
    "        model.load_weights(\"model.h5\")\n",
    "        adam = Adam(lr=LEARNING_RATE)\n",
    "        model.compile(loss='mse',optimizer=adam)\n",
    "        print (\"Weight load successfully\")    \n",
    "    else:                       #We go to training mode\n",
    "        OBSERVE = OBSERVATION\n",
    "        epsilon = load_obj(\"epsilon\")#FINAL_EPSILON #INITIAL_EPSILON\n",
    "        model.load_weights(\"model.h5\")\n",
    "        adam = Adam(lr=LEARNING_RATE)\n",
    "        model.compile(loss='mse',optimizer=adam)\n",
    "\n",
    "    t = load_obj(\"time\")\n",
    "    while (True):\n",
    "        \n",
    "        loss = 0\n",
    "        Q_sa = 0\n",
    "        action_index = 0\n",
    "        r_t = 0\n",
    "        a_t = np.zeros([ACTIONS])\n",
    "        #choose an action epsilon greedy\n",
    "        if t % FRAME_PER_ACTION == 0:\n",
    "            if  random.random() <= epsilon:\n",
    "                print(\"----------Random Action----------\")\n",
    "                action_index = random.randrange(ACTIONS)\n",
    "                a_t[action_index] = 1\n",
    "            else:\n",
    "                q = model.predict(s_t)       #input a stack of 4 images, get the prediction\n",
    "                max_Q = np.argmax(q)\n",
    "                action_index = max_Q\n",
    "                a_t[action_index] = 1\n",
    "        #We reduced the epsilon gradually\n",
    "        if epsilon > FINAL_EPSILON and t > OBSERVE:\n",
    "            epsilon -= (INITIAL_EPSILON - FINAL_EPSILON) / EXPLORE #update to original asap\n",
    "\n",
    "        #run the selected action and observed next state and reward\n",
    "        x_t1, r_t, terminal = game_state.get_state(a_t)\n",
    "        print('loop took {} seconds'.format(time.time()-last_time))\n",
    "        last_time = time.time()\n",
    "        x_t1 = x_t1.reshape(1, x_t1.shape[0], x_t1.shape[1], 1) #1x80x80x1\n",
    "        s_t1 = np.append(x_t1, s_t[:, :, :, :3], axis=3)\n",
    "\n",
    "        # store the transition in D\n",
    "        D.append((s_t, action_index, r_t, s_t1, terminal))\n",
    "        if len(D) > REPLAY_MEMORY:\n",
    "            D.popleft()\n",
    "\n",
    "        #only train if done observing\n",
    "        if t > OBSERVE: \n",
    "            \n",
    "            #sample a minibatch to train on\n",
    "            minibatch = random.sample(D, BATCH)\n",
    "            inputs = np.zeros((BATCH, s_t.shape[1], s_t.shape[2], s_t.shape[3]))   #32, 20, 40, 4\n",
    "            targets = np.zeros((inputs.shape[0], ACTIONS))                         #32, 2\n",
    "\n",
    "            #Now we do the experience replay\n",
    "            for i in range(0, len(minibatch)):\n",
    "                state_t = minibatch[i][0]\n",
    "                action_t = minibatch[i][1]   #This is action index\n",
    "                reward_t = minibatch[i][2]\n",
    "                state_t1 = minibatch[i][3]\n",
    "                terminal = minibatch[i][4]\n",
    "                # if terminated, only equals reward\n",
    "\n",
    "                inputs[i:i + 1] = state_t    #I saved down s_t\n",
    "\n",
    "                targets[i] = model.predict(state_t)  # Hitting each buttom probability\n",
    "                Q_sa = model.predict(state_t1)\n",
    "                \n",
    "                if terminal:\n",
    "                    targets[i, action_t] = reward_t\n",
    "                else:\n",
    "                    targets[i, action_t] = reward_t + GAMMA * np.max(Q_sa)\n",
    "            # targets2 = normalize(targets)\n",
    "            loss += model.train_on_batch(inputs, targets)\n",
    "            loss_df.loc[len(loss_df)] = loss\n",
    "        else:\n",
    "            #artificial time delay as training done with this delay\n",
    "            loss_df.loc[len(loss_df)] = 0\n",
    "            time.sleep(0.15)\n",
    "        s_t = initial_state if terminal else s_t1\n",
    "        t = t + 1\n",
    "        \n",
    "        # save progress every 10000 iterations\n",
    "        if t % 1000 == 0:\n",
    "            print(\"Now we save model\")\n",
    "            \n",
    "            model.save_weights(\"model.h5\", overwrite=True)\n",
    "            save_obj(D,\"D\") #saving episodes\n",
    "            save_obj(t,\"time\") #caching time steps\n",
    "            save_obj(epsilon,\"epsilon\") #cache epsilon to avoid repeated randomness in actions\n",
    "            loss_df.to_csv(\"./objects/loss_df.csv\",index=False)\n",
    "            scores_df.to_csv(\"./objects/scores_df.csv\",index=False)\n",
    "            actions_df.to_csv(\"./objects/actions_df.csv\",index=False)\n",
    "            clear_output()\n",
    "            with open(\"model.json\", \"w\") as outfile:\n",
    "                json.dump(model.to_json(), outfile)\n",
    "\n",
    "        # print info\n",
    "        state = \"\"\n",
    "        if t <= OBSERVE:\n",
    "            state = \"observe\"\n",
    "        elif t > OBSERVE and t <= OBSERVE + EXPLORE:\n",
    "            state = \"explore\"\n",
    "        else:\n",
    "            state = \"train\"\n",
    "\n",
    "        print(\"TIMESTEP\", t, \"/ STATE\", state, \\\n",
    "            \"/ EPSILON\", epsilon, \"/ ACTION\", action_index, \"/ REWARD\", r_t, \\\n",
    "            \"/ Q_MAX \" , np.max(Q_sa), \"/ Loss \", loss)\n",
    "\n",
    "    print(\"Episode finished!\")\n",
    "    print(\"************************\")"
   ]
  },
  {
   "cell_type": "code",
   "execution_count": 13,
   "metadata": {
    "collapsed": true
   },
   "outputs": [],
   "source": [
    "loss_df = pd.read_csv(\"./objects/loss_df.csv\")\n",
    "scores_df = pd.read_csv(\"./objects/scores_df.csv\")\n",
    "actions_df = pd.read_csv(\"./objects/actions_df.csv\")\n",
    "q_max_df = pd.read_csv(\"./objects/q_values.csv\")"
   ]
  },
  {
   "cell_type": "code",
   "execution_count": 14,
   "metadata": {
    "collapsed": true
   },
   "outputs": [],
   "source": [
    "def playGame(observe=False):\n",
    "    game = Game()\n",
    "    dino = DinoAgent(game)\n",
    "    game_state = Game_sate(dino,game)\n",
    "    model = buildmodel()\n",
    "    trainNetwork(model,game_state,observe=observe)"
   ]
  },
  {
   "cell_type": "code",
   "execution_count": 15,
   "metadata": {
    "collapsed": true
   },
   "outputs": [],
   "source": [
    "class Game_sate:\n",
    "    def __init__(self,agent,game):\n",
    "        self._agent = agent\n",
    "        self._game = game\n",
    "        self._display = show_img()\n",
    "        self._display.__next__()\n",
    "    def get_state(self,actions):\n",
    "        actions_df.loc[len(actions_df)] = actions[1]\n",
    "        reward = 0.1\n",
    "        is_over = False\n",
    "        if actions[1] == 1:\n",
    "            self._agent.jump()\n",
    "\n",
    "        image = grab_screen()\n",
    "        self._display.send(image)\n",
    "\n",
    "        if self._agent.is_crashed():\n",
    "            scores_df.loc[len(loss_df)] = self._game.get_score()\n",
    "            self._game.restart()\n",
    "            reward = -5\n",
    "            is_over = True\n",
    "        return image, reward, is_over"
   ]
  },
  {
   "cell_type": "code",
   "execution_count": 16,
   "metadata": {
    "scrolled": true
   },
   "outputs": [
    {
     "name": "stderr",
     "output_type": "stream",
     "text": [
      "Using TensorFlow backend.\n"
     ]
    }
   ],
   "source": [
    "from keras.models import model_from_json\n",
    "from keras.models import Sequential\n",
    "from keras.layers.core import Dense, Dropout, Activation, Flatten\n",
    "from keras.layers.convolutional import Convolution2D, MaxPooling2D\n",
    "from keras.optimizers import SGD , Adam\n",
    "import tensorflow as tf\n",
    "from keras.callbacks import TensorBoard\n",
    "from collections import deque\n",
    "import random\n",
    "import json"
   ]
  },
  {
   "cell_type": "code",
   "execution_count": 17,
   "metadata": {
    "collapsed": true
   },
   "outputs": [],
   "source": [
    "def show_img(graphs = False):\n",
    "    \"\"\"\n",
    "    Show images in new window\n",
    "    \"\"\"\n",
    "    while True:\n",
    "        screen = (yield)\n",
    "        window_title = \"logs\" if graphs else \"game_play\"\n",
    "        cv2.namedWindow(window_title, cv2.WINDOW_NORMAL)        # Create window with freedom of dimensions\n",
    "        imS = cv2.resize(screen, (800, 400)) \n",
    "        cv2.imshow(window_title, screen)\n",
    "#         cv2.imwrite(\"screenshot\"+str(frame)+\".png\",screen)\n",
    "        if (cv2.waitKey(1) & 0xFF == ord('q')):\n",
    "            cv2.destroyAllWindows()\n",
    "            break"
   ]
  },
  {
   "cell_type": "code",
   "execution_count": 18,
   "metadata": {
    "scrolled": true
   },
   "outputs": [
    {
     "name": "stdout",
     "output_type": "stream",
     "text": [
      "Now we build the model\n"
     ]
    },
    {
     "name": "stderr",
     "output_type": "stream",
     "text": [
      "C:\\Users\\ravi7\\Anaconda3\\lib\\site-packages\\ipykernel_launcher.py:4: UserWarning: Update your `Conv2D` call to the Keras 2 API: `Conv2D(32, (8, 8), input_shape=(20, 40, 4..., strides=(4, 4), padding=\"same\")`\n",
      "  after removing the cwd from sys.path.\n",
      "C:\\Users\\ravi7\\Anaconda3\\lib\\site-packages\\ipykernel_launcher.py:6: UserWarning: Update your `Conv2D` call to the Keras 2 API: `Conv2D(64, (4, 4), strides=(2, 2), padding=\"same\")`\n",
      "  \n",
      "C:\\Users\\ravi7\\Anaconda3\\lib\\site-packages\\ipykernel_launcher.py:8: UserWarning: Update your `Conv2D` call to the Keras 2 API: `Conv2D(64, (3, 3), strides=(1, 1), padding=\"same\")`\n",
      "  \n"
     ]
    },
    {
     "name": "stdout",
     "output_type": "stream",
     "text": [
      "We finish building the model\n",
      "loop took 0.7118477821350098 seconds\n",
      "TIMESTEP 633001 / STATE train / EPSILON 9.999999990062844e-05 / ACTION 0 / REWARD 0.1 / Q_MAX  -1.242 / Loss  0.139846950769\n",
      "loop took 0.9065465927124023 seconds\n",
      "TIMESTEP 633002 / STATE train / EPSILON 9.999999990062844e-05 / ACTION 0 / REWARD 0.1 / Q_MAX  -0.858274 / Loss  0.378338456154\n",
      "loop took 0.21962380409240723 seconds\n",
      "TIMESTEP 633003 / STATE train / EPSILON 9.999999990062844e-05 / ACTION 0 / REWARD 0.1 / Q_MAX  -0.240669 / Loss  0.264907062054\n",
      "loop took 0.20107316970825195 seconds\n",
      "TIMESTEP 633004 / STATE train / EPSILON 9.999999990062844e-05 / ACTION 0 / REWARD 0.1 / Q_MAX  0.43229 / Loss  0.376168131828\n",
      "loop took 0.5862467288970947 seconds\n",
      "TIMESTEP 633005 / STATE train / EPSILON 9.999999990062844e-05 / ACTION 1 / REWARD -5 / Q_MAX  -0.173112 / Loss  0.547347664833\n",
      "loop took 0.2994983196258545 seconds\n",
      "TIMESTEP 633006 / STATE train / EPSILON 9.999999990062844e-05 / ACTION 0 / REWARD 0.1 / Q_MAX  -1.27928 / Loss  0.119749285281\n",
      "loop took 0.3171501159667969 seconds\n",
      "TIMESTEP 633007 / STATE train / EPSILON 9.999999990062844e-05 / ACTION 0 / REWARD 0.1 / Q_MAX  -1.56503 / Loss  0.53443145752\n",
      "loop took 0.20325660705566406 seconds\n",
      "TIMESTEP 633008 / STATE train / EPSILON 9.999999990062844e-05 / ACTION 0 / REWARD 0.1 / Q_MAX  -0.694671 / Loss  0.723747134209\n",
      "loop took 0.26436948776245117 seconds\n",
      "TIMESTEP 633009 / STATE train / EPSILON 9.999999990062844e-05 / ACTION 1 / REWARD 0.1 / Q_MAX  -1.48891 / Loss  0.405964851379\n",
      "loop took 0.18738603591918945 seconds\n",
      "TIMESTEP 633010 / STATE train / EPSILON 9.999999990062844e-05 / ACTION 0 / REWARD 0.1 / Q_MAX  -0.227676 / Loss  0.399376958609\n",
      "loop took 0.20602822303771973 seconds\n",
      "TIMESTEP 633011 / STATE train / EPSILON 9.999999990062844e-05 / ACTION 0 / REWARD 0.1 / Q_MAX  -0.419689 / Loss  0.548380374908\n",
      "loop took 0.45163607597351074 seconds\n",
      "TIMESTEP 633012 / STATE train / EPSILON 9.999999990062844e-05 / ACTION 0 / REWARD -5 / Q_MAX  -0.510656 / Loss  0.591989398003\n",
      "loop took 0.41533493995666504 seconds\n",
      "TIMESTEP 633013 / STATE train / EPSILON 9.999999990062844e-05 / ACTION 0 / REWARD 0.1 / Q_MAX  -0.00696921 / Loss  0.296679913998\n",
      "loop took 0.3015923500061035 seconds\n",
      "TIMESTEP 633014 / STATE train / EPSILON 9.999999990062844e-05 / ACTION 0 / REWARD 0.1 / Q_MAX  -1.10177 / Loss  0.356173336506\n",
      "loop took 0.18786311149597168 seconds\n",
      "TIMESTEP 633015 / STATE train / EPSILON 9.999999990062844e-05 / ACTION 0 / REWARD 0.1 / Q_MAX  -0.435477 / Loss  0.200386866927\n",
      "loop took 0.2677145004272461 seconds\n",
      "TIMESTEP 633016 / STATE train / EPSILON 9.999999990062844e-05 / ACTION 0 / REWARD 0.1 / Q_MAX  -0.180976 / Loss  0.255592942238\n",
      "loop took 0.21808242797851562 seconds\n",
      "TIMESTEP 633017 / STATE train / EPSILON 9.999999990062844e-05 / ACTION 1 / REWARD 0.1 / Q_MAX  -0.0330524 / Loss  0.0972322225571\n",
      "loop took 0.20535922050476074 seconds\n",
      "TIMESTEP 633018 / STATE train / EPSILON 9.999999990062844e-05 / ACTION 0 / REWARD 0.1 / Q_MAX  -1.07585 / Loss  0.195489346981\n",
      "loop took 0.21999096870422363 seconds\n",
      "TIMESTEP 633019 / STATE train / EPSILON 9.999999990062844e-05 / ACTION 0 / REWARD 0.1 / Q_MAX  -4.94288 / Loss  0.216441497207\n",
      "loop took 0.5897181034088135 seconds\n",
      "TIMESTEP 633020 / STATE train / EPSILON 9.999999990062844e-05 / ACTION 0 / REWARD -5 / Q_MAX  -0.268691 / Loss  1.99200356007\n",
      "loop took 0.293658971786499 seconds\n",
      "TIMESTEP 633021 / STATE train / EPSILON 9.999999990062844e-05 / ACTION 0 / REWARD 0.1 / Q_MAX  -1.07917 / Loss  0.398952394724\n",
      "loop took 0.34393906593322754 seconds\n",
      "TIMESTEP 633022 / STATE train / EPSILON 9.999999990062844e-05 / ACTION 0 / REWARD 0.1 / Q_MAX  -1.05175 / Loss  0.370443373919\n",
      "loop took 0.34572887420654297 seconds\n",
      "TIMESTEP 633023 / STATE train / EPSILON 9.999999990062844e-05 / ACTION 0 / REWARD 0.1 / Q_MAX  -0.677797 / Loss  0.136135280132\n",
      "loop took 0.35722899436950684 seconds\n",
      "TIMESTEP 633024 / STATE train / EPSILON 9.999999990062844e-05 / ACTION 0 / REWARD 0.1 / Q_MAX  -0.408197 / Loss  0.66181820631\n",
      "loop took 0.3135643005371094 seconds\n",
      "TIMESTEP 633025 / STATE train / EPSILON 9.999999990062844e-05 / ACTION 0 / REWARD 0.1 / Q_MAX  -0.697946 / Loss  0.2669480443\n",
      "loop took 0.3536088466644287 seconds\n",
      "TIMESTEP 633026 / STATE train / EPSILON 9.999999990062844e-05 / ACTION 0 / REWARD 0.1 / Q_MAX  -0.031914 / Loss  0.256695479155\n",
      "loop took 0.37062692642211914 seconds\n",
      "TIMESTEP 633027 / STATE train / EPSILON 9.999999990062844e-05 / ACTION 0 / REWARD 0.1 / Q_MAX  -0.821295 / Loss  0.980701088905\n",
      "loop took 0.3805725574493408 seconds\n",
      "TIMESTEP 633028 / STATE train / EPSILON 9.999999990062844e-05 / ACTION 0 / REWARD 0.1 / Q_MAX  -1.79699 / Loss  0.41353610158\n",
      "loop took 0.4286201000213623 seconds\n",
      "TIMESTEP 633029 / STATE train / EPSILON 9.999999990062844e-05 / ACTION 0 / REWARD 0.1 / Q_MAX  -0.754328 / Loss  0.188649296761\n",
      "loop took 0.2986922264099121 seconds\n",
      "TIMESTEP 633030 / STATE train / EPSILON 9.999999990062844e-05 / ACTION 0 / REWARD 0.1 / Q_MAX  -1.02156 / Loss  0.552680253983\n",
      "loop took 0.6010105609893799 seconds\n",
      "TIMESTEP 633031 / STATE train / EPSILON 9.999999990062844e-05 / ACTION 0 / REWARD -5 / Q_MAX  -0.0819577 / Loss  0.551425457001\n",
      "loop took 0.38646769523620605 seconds\n",
      "TIMESTEP 633032 / STATE train / EPSILON 9.999999990062844e-05 / ACTION 0 / REWARD 0.1 / Q_MAX  -2.628 / Loss  0.654764175415\n",
      "loop took 0.3976442813873291 seconds\n",
      "TIMESTEP 633033 / STATE train / EPSILON 9.999999990062844e-05 / ACTION 0 / REWARD 0.1 / Q_MAX  -0.246983 / Loss  0.497997164726\n",
      "loop took 0.40143299102783203 seconds\n",
      "TIMESTEP 633034 / STATE train / EPSILON 9.999999990062844e-05 / ACTION 0 / REWARD 0.1 / Q_MAX  -5.22789 / Loss  0.230729833245\n",
      "loop took 0.41236376762390137 seconds\n",
      "TIMESTEP 633035 / STATE train / EPSILON 9.999999990062844e-05 / ACTION 0 / REWARD 0.1 / Q_MAX  -0.3751 / Loss  0.316844046116\n",
      "loop took 0.2812204360961914 seconds\n",
      "TIMESTEP 633036 / STATE train / EPSILON 9.999999990062844e-05 / ACTION 0 / REWARD 0.1 / Q_MAX  -0.719356 / Loss  0.304296284914\n",
      "loop took 0.3787858486175537 seconds\n",
      "TIMESTEP 633037 / STATE train / EPSILON 9.999999990062844e-05 / ACTION 1 / REWARD 0.1 / Q_MAX  -0.406422 / Loss  0.0661307871342\n",
      "loop took 0.3556642532348633 seconds\n",
      "TIMESTEP 633038 / STATE train / EPSILON 9.999999990062844e-05 / ACTION 0 / REWARD 0.1 / Q_MAX  -0.244866 / Loss  0.519705891609\n",
      "loop took 0.29746389389038086 seconds\n",
      "TIMESTEP 633039 / STATE train / EPSILON 9.999999990062844e-05 / ACTION 0 / REWARD 0.1 / Q_MAX  -0.57966 / Loss  0.284869968891\n",
      "loop took 0.2971079349517822 seconds\n",
      "TIMESTEP 633040 / STATE train / EPSILON 9.999999990062844e-05 / ACTION 0 / REWARD 0.1 / Q_MAX  -1.07139 / Loss  0.117082111537\n",
      "loop took 0.651526927947998 seconds\n",
      "TIMESTEP 633041 / STATE train / EPSILON 9.999999990062844e-05 / ACTION 0 / REWARD -5 / Q_MAX  -0.737949 / Loss  0.456195443869\n",
      "loop took 0.33037614822387695 seconds\n",
      "TIMESTEP 633042 / STATE train / EPSILON 9.999999990062844e-05 / ACTION 0 / REWARD 0.1 / Q_MAX  -0.39529 / Loss  0.750579833984\n",
      "loop took 0.29747962951660156 seconds\n",
      "TIMESTEP 633043 / STATE train / EPSILON 9.999999990062844e-05 / ACTION 0 / REWARD 0.1 / Q_MAX  -3.86215 / Loss  0.435318350792\n",
      "loop took 0.3656589984893799 seconds\n",
      "TIMESTEP 633044 / STATE train / EPSILON 9.999999990062844e-05 / ACTION 0 / REWARD 0.1 / Q_MAX  -1.9367 / Loss  0.218867123127\n",
      "loop took 0.29054784774780273 seconds\n",
      "TIMESTEP 633045 / STATE train / EPSILON 9.999999990062844e-05 / ACTION 0 / REWARD 0.1 / Q_MAX  -4.20236 / Loss  0.507808089256\n",
      "loop took 0.24179720878601074 seconds\n",
      "TIMESTEP 633046 / STATE train / EPSILON 9.999999990062844e-05 / ACTION 0 / REWARD 0.1 / Q_MAX  -2.38827 / Loss  0.458895027637\n",
      "loop took 0.6381072998046875 seconds\n",
      "TIMESTEP 633047 / STATE train / EPSILON 9.999999990062844e-05 / ACTION 0 / REWARD -5 / Q_MAX  -4.97588 / Loss  0.54299145937\n",
      "loop took 0.4862375259399414 seconds\n",
      "TIMESTEP 633048 / STATE train / EPSILON 9.999999990062844e-05 / ACTION 0 / REWARD 0.1 / Q_MAX  -3.90057 / Loss  0.362518012524\n",
      "loop took 0.2937591075897217 seconds\n",
      "TIMESTEP 633049 / STATE train / EPSILON 9.999999990062844e-05 / ACTION 0 / REWARD 0.1 / Q_MAX  -3.93339 / Loss  0.655559420586\n",
      "loop took 0.3369479179382324 seconds\n",
      "TIMESTEP 633050 / STATE train / EPSILON 9.999999990062844e-05 / ACTION 0 / REWARD 0.1 / Q_MAX  -0.508087 / Loss  0.981095850468\n",
      "loop took 0.29125094413757324 seconds\n"
     ]
    },
    {
     "name": "stdout",
     "output_type": "stream",
     "text": [
      "TIMESTEP 633051 / STATE train / EPSILON 9.999999990062844e-05 / ACTION 0 / REWARD 0.1 / Q_MAX  -1.76712 / Loss  0.297997415066\n",
      "loop took 0.34244751930236816 seconds\n",
      "TIMESTEP 633052 / STATE train / EPSILON 9.999999990062844e-05 / ACTION 0 / REWARD 0.1 / Q_MAX  -4.14537 / Loss  0.266021132469\n",
      "loop took 0.38593053817749023 seconds\n",
      "TIMESTEP 633053 / STATE train / EPSILON 9.999999990062844e-05 / ACTION 1 / REWARD 0.1 / Q_MAX  -0.0148675 / Loss  0.185953319073\n",
      "loop took 0.29683756828308105 seconds\n",
      "TIMESTEP 633054 / STATE train / EPSILON 9.999999990062844e-05 / ACTION 0 / REWARD 0.1 / Q_MAX  -0.158315 / Loss  0.247628942132\n",
      "loop took 0.7055282592773438 seconds\n",
      "TIMESTEP 633055 / STATE train / EPSILON 9.999999990062844e-05 / ACTION 0 / REWARD -5 / Q_MAX  -0.277989 / Loss  0.107746690512\n",
      "loop took 0.4116191864013672 seconds\n",
      "TIMESTEP 633056 / STATE train / EPSILON 9.999999990062844e-05 / ACTION 0 / REWARD 0.1 / Q_MAX  -0.170606 / Loss  0.647695600986\n",
      "loop took 0.38136887550354004 seconds\n",
      "TIMESTEP 633057 / STATE train / EPSILON 9.999999990062844e-05 / ACTION 1 / REWARD 0.1 / Q_MAX  -0.561264 / Loss  0.420431911945\n",
      "loop took 0.3468914031982422 seconds\n",
      "TIMESTEP 633058 / STATE train / EPSILON 9.999999990062844e-05 / ACTION 0 / REWARD 0.1 / Q_MAX  -0.614253 / Loss  0.46338146925\n",
      "loop took 0.3403928279876709 seconds\n",
      "TIMESTEP 633059 / STATE train / EPSILON 9.999999990062844e-05 / ACTION 0 / REWARD 0.1 / Q_MAX  -0.616057 / Loss  0.197175860405\n",
      "loop took 0.6559197902679443 seconds\n",
      "TIMESTEP 633060 / STATE train / EPSILON 9.999999990062844e-05 / ACTION 0 / REWARD -5 / Q_MAX  -1.71579 / Loss  0.185625731945\n",
      "loop took 0.3725113868713379 seconds\n",
      "TIMESTEP 633061 / STATE train / EPSILON 9.999999990062844e-05 / ACTION 0 / REWARD 0.1 / Q_MAX  -0.978604 / Loss  0.305811673403\n",
      "loop took 0.3296780586242676 seconds\n",
      "TIMESTEP 633062 / STATE train / EPSILON 9.999999990062844e-05 / ACTION 0 / REWARD 0.1 / Q_MAX  -0.165508 / Loss  0.48097127676\n",
      "loop took 0.38800501823425293 seconds\n",
      "TIMESTEP 633063 / STATE train / EPSILON 9.999999990062844e-05 / ACTION 0 / REWARD 0.1 / Q_MAX  -0.149334 / Loss  0.414360404015\n",
      "loop took 0.379335880279541 seconds\n",
      "TIMESTEP 633064 / STATE train / EPSILON 9.999999990062844e-05 / ACTION 0 / REWARD 0.1 / Q_MAX  -0.258324 / Loss  0.140006303787\n",
      "loop took 0.7442131042480469 seconds\n",
      "TIMESTEP 633065 / STATE train / EPSILON 9.999999990062844e-05 / ACTION 1 / REWARD -5 / Q_MAX  -0.788021 / Loss  0.281384289265\n",
      "loop took 0.3961172103881836 seconds\n",
      "TIMESTEP 633066 / STATE train / EPSILON 9.999999990062844e-05 / ACTION 0 / REWARD 0.1 / Q_MAX  -0.425828 / Loss  0.535561680794\n",
      "loop took 0.3125944137573242 seconds\n",
      "TIMESTEP 633067 / STATE train / EPSILON 9.999999990062844e-05 / ACTION 0 / REWARD 0.1 / Q_MAX  -0.432076 / Loss  1.17740631104\n",
      "loop took 0.3451390266418457 seconds\n",
      "TIMESTEP 633068 / STATE train / EPSILON 9.999999990062844e-05 / ACTION 0 / REWARD 0.1 / Q_MAX  -3.59588 / Loss  0.170062094927\n",
      "loop took 0.3250260353088379 seconds\n",
      "TIMESTEP 633069 / STATE train / EPSILON 9.999999990062844e-05 / ACTION 1 / REWARD 0.1 / Q_MAX  -0.754867 / Loss  0.429374992847\n",
      "loop took 0.31241536140441895 seconds\n",
      "TIMESTEP 633070 / STATE train / EPSILON 9.999999990062844e-05 / ACTION 0 / REWARD 0.1 / Q_MAX  -0.778159 / Loss  0.304854929447\n",
      "loop took 0.385845422744751 seconds\n",
      "TIMESTEP 633071 / STATE train / EPSILON 9.999999990062844e-05 / ACTION 0 / REWARD 0.1 / Q_MAX  -0.384998 / Loss  0.539268255234\n",
      "loop took 0.2943403720855713 seconds\n",
      "TIMESTEP 633072 / STATE train / EPSILON 9.999999990062844e-05 / ACTION 0 / REWARD 0.1 / Q_MAX  -1.03968 / Loss  0.212150841951\n",
      "loop took 0.35242581367492676 seconds\n",
      "TIMESTEP 633073 / STATE train / EPSILON 9.999999990062844e-05 / ACTION 0 / REWARD 0.1 / Q_MAX  -0.216001 / Loss  0.0788245648146\n",
      "loop took 0.3176870346069336 seconds\n",
      "TIMESTEP 633074 / STATE train / EPSILON 9.999999990062844e-05 / ACTION 0 / REWARD 0.1 / Q_MAX  -2.74514 / Loss  0.201492339373\n",
      "loop took 0.3399641513824463 seconds\n",
      "TIMESTEP 633075 / STATE train / EPSILON 9.999999990062844e-05 / ACTION 0 / REWARD 0.1 / Q_MAX  -0.6408 / Loss  0.365290522575\n",
      "loop took 0.32874512672424316 seconds\n",
      "TIMESTEP 633076 / STATE train / EPSILON 9.999999990062844e-05 / ACTION 0 / REWARD 0.1 / Q_MAX  -1.09847 / Loss  0.158345282078\n",
      "loop took 0.4219481945037842 seconds\n",
      "TIMESTEP 633077 / STATE train / EPSILON 9.999999990062844e-05 / ACTION 1 / REWARD 0.1 / Q_MAX  -5.54786 / Loss  0.538056075573\n",
      "loop took 0.29572629928588867 seconds\n",
      "TIMESTEP 633078 / STATE train / EPSILON 9.999999990062844e-05 / ACTION 0 / REWARD 0.1 / Q_MAX  -0.0266333 / Loss  0.232409104705\n",
      "loop took 0.3108713626861572 seconds\n",
      "TIMESTEP 633079 / STATE train / EPSILON 9.999999990062844e-05 / ACTION 0 / REWARD 0.1 / Q_MAX  -3.0284 / Loss  0.238838106394\n",
      "loop took 0.31380629539489746 seconds\n",
      "TIMESTEP 633080 / STATE train / EPSILON 9.999999990062844e-05 / ACTION 0 / REWARD 0.1 / Q_MAX  -0.395581 / Loss  0.41380533576\n",
      "loop took 0.4052085876464844 seconds\n",
      "TIMESTEP 633081 / STATE train / EPSILON 9.999999990062844e-05 / ACTION 1 / REWARD 0.1 / Q_MAX  -0.509812 / Loss  0.092987164855\n",
      "loop took 0.3123013973236084 seconds\n",
      "TIMESTEP 633082 / STATE train / EPSILON 9.999999990062844e-05 / ACTION 0 / REWARD 0.1 / Q_MAX  0.0111725 / Loss  0.204127341509\n",
      "loop took 0.2984774112701416 seconds\n",
      "TIMESTEP 633083 / STATE train / EPSILON 9.999999990062844e-05 / ACTION 0 / REWARD 0.1 / Q_MAX  -5.02646 / Loss  0.15058812499\n",
      "loop took 0.36211490631103516 seconds\n",
      "TIMESTEP 633084 / STATE train / EPSILON 9.999999990062844e-05 / ACTION 0 / REWARD 0.1 / Q_MAX  -0.0889378 / Loss  0.273375272751\n",
      "loop took 0.367816686630249 seconds\n",
      "TIMESTEP 633085 / STATE train / EPSILON 9.999999990062844e-05 / ACTION 0 / REWARD 0.1 / Q_MAX  0.0306101 / Loss  0.145394235849\n",
      "loop took 0.34378767013549805 seconds\n",
      "TIMESTEP 633086 / STATE train / EPSILON 9.999999990062844e-05 / ACTION 0 / REWARD 0.1 / Q_MAX  -3.48601 / Loss  0.399040102959\n",
      "loop took 0.31272029876708984 seconds\n",
      "TIMESTEP 633087 / STATE train / EPSILON 9.999999990062844e-05 / ACTION 0 / REWARD 0.1 / Q_MAX  -3.31615 / Loss  0.237588852644\n",
      "loop took 0.31863975524902344 seconds\n",
      "TIMESTEP 633088 / STATE train / EPSILON 9.999999990062844e-05 / ACTION 0 / REWARD 0.1 / Q_MAX  -0.316246 / Loss  0.380594313145\n",
      "loop took 0.3091285228729248 seconds\n",
      "TIMESTEP 633089 / STATE train / EPSILON 9.999999990062844e-05 / ACTION 0 / REWARD 0.1 / Q_MAX  -0.525622 / Loss  0.423678606749\n",
      "loop took 0.32623958587646484 seconds\n",
      "TIMESTEP 633090 / STATE train / EPSILON 9.999999990062844e-05 / ACTION 0 / REWARD 0.1 / Q_MAX  -0.220252 / Loss  0.664480090141\n",
      "loop took 0.32997560501098633 seconds\n",
      "TIMESTEP 633091 / STATE train / EPSILON 9.999999990062844e-05 / ACTION 0 / REWARD 0.1 / Q_MAX  0.0868764 / Loss  0.379206180573\n",
      "loop took 0.3502950668334961 seconds\n",
      "TIMESTEP 633092 / STATE train / EPSILON 9.999999990062844e-05 / ACTION 0 / REWARD 0.1 / Q_MAX  -4.00257 / Loss  0.59758067131\n",
      "loop took 0.31607508659362793 seconds\n",
      "TIMESTEP 633093 / STATE train / EPSILON 9.999999990062844e-05 / ACTION 0 / REWARD 0.1 / Q_MAX  -3.60894 / Loss  0.131483957171\n",
      "loop took 0.35106992721557617 seconds\n",
      "TIMESTEP 633094 / STATE train / EPSILON 9.999999990062844e-05 / ACTION 0 / REWARD 0.1 / Q_MAX  -0.352663 / Loss  0.768615841866\n",
      "loop took 0.3319430351257324 seconds\n",
      "TIMESTEP 633095 / STATE train / EPSILON 9.999999990062844e-05 / ACTION 0 / REWARD 0.1 / Q_MAX  -0.562621 / Loss  0.473215579987\n",
      "loop took 0.31240224838256836 seconds\n",
      "TIMESTEP 633096 / STATE train / EPSILON 9.999999990062844e-05 / ACTION 0 / REWARD 0.1 / Q_MAX  -2.47678 / Loss  0.224505141377\n",
      "loop took 0.30740857124328613 seconds\n",
      "TIMESTEP 633097 / STATE train / EPSILON 9.999999990062844e-05 / ACTION 0 / REWARD 0.1 / Q_MAX  0.0611007 / Loss  0.234036266804\n",
      "loop took 0.29378747940063477 seconds\n",
      "TIMESTEP 633098 / STATE train / EPSILON 9.999999990062844e-05 / ACTION 0 / REWARD 0.1 / Q_MAX  -0.976348 / Loss  0.538260817528\n",
      "loop took 0.3003406524658203 seconds\n",
      "TIMESTEP 633099 / STATE train / EPSILON 9.999999990062844e-05 / ACTION 0 / REWARD 0.1 / Q_MAX  0.435247 / Loss  0.435093551874\n",
      "loop took 0.2954692840576172 seconds\n",
      "TIMESTEP 633100 / STATE train / EPSILON 9.999999990062844e-05 / ACTION 0 / REWARD 0.1 / Q_MAX  -3.90908 / Loss  0.773038506508\n",
      "loop took 0.28743672370910645 seconds\n"
     ]
    },
    {
     "name": "stdout",
     "output_type": "stream",
     "text": [
      "TIMESTEP 633101 / STATE train / EPSILON 9.999999990062844e-05 / ACTION 0 / REWARD 0.1 / Q_MAX  -0.40007 / Loss  0.274786561728\n",
      "loop took 0.33599114418029785 seconds\n",
      "TIMESTEP 633102 / STATE train / EPSILON 9.999999990062844e-05 / ACTION 0 / REWARD 0.1 / Q_MAX  -0.37957 / Loss  0.341670095921\n",
      "loop took 0.31558704376220703 seconds\n",
      "TIMESTEP 633103 / STATE train / EPSILON 9.999999990062844e-05 / ACTION 0 / REWARD 0.1 / Q_MAX  -4.60274 / Loss  0.312995880842\n",
      "loop took 0.3133425712585449 seconds\n",
      "TIMESTEP 633104 / STATE train / EPSILON 9.999999990062844e-05 / ACTION 0 / REWARD 0.1 / Q_MAX  0.0396852 / Loss  0.289255350828\n",
      "loop took 0.33449459075927734 seconds\n",
      "TIMESTEP 633105 / STATE train / EPSILON 9.999999990062844e-05 / ACTION 0 / REWARD 0.1 / Q_MAX  -0.490043 / Loss  0.790246844292\n",
      "loop took 0.32065534591674805 seconds\n",
      "TIMESTEP 633106 / STATE train / EPSILON 9.999999990062844e-05 / ACTION 0 / REWARD 0.1 / Q_MAX  -0.290383 / Loss  0.215701639652\n",
      "loop took 0.3190155029296875 seconds\n",
      "TIMESTEP 633107 / STATE train / EPSILON 9.999999990062844e-05 / ACTION 0 / REWARD 0.1 / Q_MAX  -0.385191 / Loss  0.382461845875\n",
      "loop took 0.3125755786895752 seconds\n",
      "TIMESTEP 633108 / STATE train / EPSILON 9.999999990062844e-05 / ACTION 0 / REWARD 0.1 / Q_MAX  -0.328637 / Loss  0.533811569214\n",
      "loop took 0.35102343559265137 seconds\n",
      "TIMESTEP 633109 / STATE train / EPSILON 9.999999990062844e-05 / ACTION 0 / REWARD 0.1 / Q_MAX  -0.374516 / Loss  0.279663920403\n",
      "loop took 0.30611586570739746 seconds\n",
      "TIMESTEP 633110 / STATE train / EPSILON 9.999999990062844e-05 / ACTION 0 / REWARD 0.1 / Q_MAX  0.122132 / Loss  0.341683626175\n",
      "loop took 0.32901883125305176 seconds\n",
      "TIMESTEP 633111 / STATE train / EPSILON 9.999999990062844e-05 / ACTION 0 / REWARD 0.1 / Q_MAX  -0.420139 / Loss  0.487361907959\n",
      "loop took 0.31259846687316895 seconds\n",
      "TIMESTEP 633112 / STATE train / EPSILON 9.999999990062844e-05 / ACTION 0 / REWARD 0.1 / Q_MAX  -5.05286 / Loss  0.135248124599\n",
      "loop took 0.3602421283721924 seconds\n",
      "TIMESTEP 633113 / STATE train / EPSILON 9.999999990062844e-05 / ACTION 1 / REWARD 0.1 / Q_MAX  -0.0291518 / Loss  0.906881332397\n",
      "loop took 0.3638486862182617 seconds\n",
      "TIMESTEP 633114 / STATE train / EPSILON 9.999999990062844e-05 / ACTION 0 / REWARD 0.1 / Q_MAX  -0.410911 / Loss  0.454460561275\n",
      "loop took 0.3612487316131592 seconds\n",
      "TIMESTEP 633115 / STATE train / EPSILON 9.999999990062844e-05 / ACTION 0 / REWARD 0.1 / Q_MAX  -0.160252 / Loss  0.557394504547\n",
      "loop took 0.6322557926177979 seconds\n",
      "TIMESTEP 633116 / STATE train / EPSILON 9.999999990062844e-05 / ACTION 0 / REWARD -5 / Q_MAX  -0.910466 / Loss  0.718358755112\n",
      "loop took 0.36334800720214844 seconds\n",
      "TIMESTEP 633117 / STATE train / EPSILON 9.999999990062844e-05 / ACTION 1 / REWARD 0.1 / Q_MAX  -4.4511 / Loss  0.623273849487\n",
      "loop took 0.33173179626464844 seconds\n",
      "TIMESTEP 633118 / STATE train / EPSILON 9.999999990062844e-05 / ACTION 0 / REWARD 0.1 / Q_MAX  -1.66428 / Loss  0.369588971138\n",
      "loop took 0.39127135276794434 seconds\n",
      "TIMESTEP 633119 / STATE train / EPSILON 9.999999990062844e-05 / ACTION 0 / REWARD 0.1 / Q_MAX  -0.270244 / Loss  0.486185967922\n",
      "loop took 0.22736859321594238 seconds\n",
      "TIMESTEP 633120 / STATE train / EPSILON 9.999999990062844e-05 / ACTION 0 / REWARD 0.1 / Q_MAX  -0.413789 / Loss  0.145148470998\n",
      "loop took 0.25341272354125977 seconds\n",
      "TIMESTEP 633121 / STATE train / EPSILON 9.999999990062844e-05 / ACTION 1 / REWARD 0.1 / Q_MAX  -5.06815 / Loss  0.248657599092\n",
      "loop took 0.27895283699035645 seconds\n",
      "TIMESTEP 633122 / STATE train / EPSILON 9.999999990062844e-05 / ACTION 0 / REWARD 0.1 / Q_MAX  -0.466969 / Loss  0.273804366589\n",
      "loop took 0.4662642478942871 seconds\n",
      "TIMESTEP 633123 / STATE train / EPSILON 9.999999990062844e-05 / ACTION 0 / REWARD -5 / Q_MAX  0.0816141 / Loss  0.535798311234\n"
     ]
    },
    {
     "ename": "StopIteration",
     "evalue": "",
     "output_type": "error",
     "traceback": [
      "\u001b[1;31m---------------------------------------------------------------------------\u001b[0m",
      "\u001b[1;31mStopIteration\u001b[0m                             Traceback (most recent call last)",
      "\u001b[1;32m<ipython-input-18-ec9546669aed>\u001b[0m in \u001b[0;36m<module>\u001b[1;34m()\u001b[0m\n\u001b[1;32m----> 1\u001b[1;33m \u001b[0mplayGame\u001b[0m\u001b[1;33m(\u001b[0m\u001b[0mobserve\u001b[0m\u001b[1;33m=\u001b[0m\u001b[1;32mFalse\u001b[0m\u001b[1;33m)\u001b[0m\u001b[1;33m;\u001b[0m\u001b[1;33m\u001b[0m\u001b[0m\n\u001b[0m",
      "\u001b[1;32m<ipython-input-14-2255e85230c6>\u001b[0m in \u001b[0;36mplayGame\u001b[1;34m(observe)\u001b[0m\n\u001b[0;32m      4\u001b[0m     \u001b[0mgame_state\u001b[0m \u001b[1;33m=\u001b[0m \u001b[0mGame_sate\u001b[0m\u001b[1;33m(\u001b[0m\u001b[0mdino\u001b[0m\u001b[1;33m,\u001b[0m\u001b[0mgame\u001b[0m\u001b[1;33m)\u001b[0m\u001b[1;33m\u001b[0m\u001b[0m\n\u001b[0;32m      5\u001b[0m     \u001b[0mmodel\u001b[0m \u001b[1;33m=\u001b[0m \u001b[0mbuildmodel\u001b[0m\u001b[1;33m(\u001b[0m\u001b[1;33m)\u001b[0m\u001b[1;33m\u001b[0m\u001b[0m\n\u001b[1;32m----> 6\u001b[1;33m     \u001b[0mtrainNetwork\u001b[0m\u001b[1;33m(\u001b[0m\u001b[0mmodel\u001b[0m\u001b[1;33m,\u001b[0m\u001b[0mgame_state\u001b[0m\u001b[1;33m,\u001b[0m\u001b[0mobserve\u001b[0m\u001b[1;33m=\u001b[0m\u001b[0mobserve\u001b[0m\u001b[1;33m)\u001b[0m\u001b[1;33m\u001b[0m\u001b[0m\n\u001b[0m",
      "\u001b[1;32m<ipython-input-12-563f41911d42>\u001b[0m in \u001b[0;36mtrainNetwork\u001b[1;34m(model, game_state, observe)\u001b[0m\n\u001b[0;32m     56\u001b[0m \u001b[1;33m\u001b[0m\u001b[0m\n\u001b[0;32m     57\u001b[0m         \u001b[1;31m#run the selected action and observed next state and reward\u001b[0m\u001b[1;33m\u001b[0m\u001b[1;33m\u001b[0m\u001b[0m\n\u001b[1;32m---> 58\u001b[1;33m         \u001b[0mx_t1\u001b[0m\u001b[1;33m,\u001b[0m \u001b[0mr_t\u001b[0m\u001b[1;33m,\u001b[0m \u001b[0mterminal\u001b[0m \u001b[1;33m=\u001b[0m \u001b[0mgame_state\u001b[0m\u001b[1;33m.\u001b[0m\u001b[0mget_state\u001b[0m\u001b[1;33m(\u001b[0m\u001b[0ma_t\u001b[0m\u001b[1;33m)\u001b[0m\u001b[1;33m\u001b[0m\u001b[0m\n\u001b[0m\u001b[0;32m     59\u001b[0m         \u001b[0mprint\u001b[0m\u001b[1;33m(\u001b[0m\u001b[1;34m'loop took {} seconds'\u001b[0m\u001b[1;33m.\u001b[0m\u001b[0mformat\u001b[0m\u001b[1;33m(\u001b[0m\u001b[0mtime\u001b[0m\u001b[1;33m.\u001b[0m\u001b[0mtime\u001b[0m\u001b[1;33m(\u001b[0m\u001b[1;33m)\u001b[0m\u001b[1;33m-\u001b[0m\u001b[0mlast_time\u001b[0m\u001b[1;33m)\u001b[0m\u001b[1;33m)\u001b[0m\u001b[1;33m\u001b[0m\u001b[0m\n\u001b[0;32m     60\u001b[0m         \u001b[0mlast_time\u001b[0m \u001b[1;33m=\u001b[0m \u001b[0mtime\u001b[0m\u001b[1;33m.\u001b[0m\u001b[0mtime\u001b[0m\u001b[1;33m(\u001b[0m\u001b[1;33m)\u001b[0m\u001b[1;33m\u001b[0m\u001b[0m\n",
      "\u001b[1;32m<ipython-input-15-002050dc5e55>\u001b[0m in \u001b[0;36mget_state\u001b[1;34m(self, actions)\u001b[0m\n\u001b[0;32m     13\u001b[0m \u001b[1;33m\u001b[0m\u001b[0m\n\u001b[0;32m     14\u001b[0m         \u001b[0mimage\u001b[0m \u001b[1;33m=\u001b[0m \u001b[0mgrab_screen\u001b[0m\u001b[1;33m(\u001b[0m\u001b[1;33m)\u001b[0m\u001b[1;33m\u001b[0m\u001b[0m\n\u001b[1;32m---> 15\u001b[1;33m         \u001b[0mself\u001b[0m\u001b[1;33m.\u001b[0m\u001b[0m_display\u001b[0m\u001b[1;33m.\u001b[0m\u001b[0msend\u001b[0m\u001b[1;33m(\u001b[0m\u001b[0mimage\u001b[0m\u001b[1;33m)\u001b[0m\u001b[1;33m\u001b[0m\u001b[0m\n\u001b[0m\u001b[0;32m     16\u001b[0m \u001b[1;33m\u001b[0m\u001b[0m\n\u001b[0;32m     17\u001b[0m         \u001b[1;32mif\u001b[0m \u001b[0mself\u001b[0m\u001b[1;33m.\u001b[0m\u001b[0m_agent\u001b[0m\u001b[1;33m.\u001b[0m\u001b[0mis_crashed\u001b[0m\u001b[1;33m(\u001b[0m\u001b[1;33m)\u001b[0m\u001b[1;33m:\u001b[0m\u001b[1;33m\u001b[0m\u001b[0m\n",
      "\u001b[1;31mStopIteration\u001b[0m: "
     ]
    }
   ],
   "source": [
    "playGame(observe=False);"
   ]
  },
  {
   "cell_type": "code",
   "execution_count": 18,
   "metadata": {
    "collapsed": true,
    "scrolled": false
   },
   "outputs": [],
   "source": [
    "def show_plots(realtime = True,t=0):\n",
    "    fig, axs = plt.subplots(ncols=2,nrows =2)\n",
    "    loss_df['loss'] = loss_df['loss'].astype('float') \n",
    "    loss_df.plot(use_index=True,ax=axs[0,0])\n",
    "    scores_df.plot(ax=axs[0,1])\n",
    "    sns.distplot(actions_df,ax=axs[1,0])\n",
    "#     q_max_df.plot(ax = axs[1,1])\n",
    "    imgg = fig.canvas.draw()\n",
    "    graph_img = np.fromstring(fig.canvas.tostring_rgb(), dtype=np.uint8, sep='')\n",
    "    graph_img = graph_img.reshape(fig.canvas.get_width_height()[::-1] + (3,))\n",
    "#     disp = show_img(graphs=True)\n",
    "#     disp.__next__()\n",
    "    cv2.imwrite(\"logs/progress/pg\"+str(t)+\".png\",graph_img) if realtime else 0"
   ]
  },
  {
   "cell_type": "code",
   "execution_count": 19,
   "metadata": {},
   "outputs": [
    {
     "name": "stderr",
     "output_type": "stream",
     "text": [
      "C:\\Users\\ravi7\\Anaconda3\\lib\\site-packages\\matplotlib\\axes\\_axes.py:6462: UserWarning: The 'normed' kwarg is deprecated, and has been replaced by the 'density' kwarg.\n",
      "  warnings.warn(\"The 'normed' kwarg is deprecated, and has been \"\n"
     ]
    },
    {
     "data": {
      "image/png": "[encoded data removed]",
      "text/plain": [
       "<Figure size 1080x648 with 4 Axes>"
      ]
     },
     "metadata": {},
     "output_type": "display_data"
    }
   ],
   "source": [
    "show_plots(realtime=False)"
   ]
  },
  {
   "cell_type": "code",
   "execution_count": 22,
   "metadata": {},
   "outputs": [
    {
     "name": "stdout",
     "output_type": "stream",
     "text": [
      "Now we build the model\n",
      "We finish building the model\n"
     ]
    },
    {
     "name": "stderr",
     "output_type": "stream",
     "text": [
      "C:\\Users\\ravi7\\Anaconda3\\lib\\site-packages\\ipykernel_launcher.py:4: UserWarning: Update your `Conv2D` call to the Keras 2 API: `Conv2D(32, (8, 8), input_shape=(20, 40, 4..., strides=(4, 4), padding=\"same\")`\n",
      "  after removing the cwd from sys.path.\n",
      "C:\\Users\\ravi7\\Anaconda3\\lib\\site-packages\\ipykernel_launcher.py:6: UserWarning: Update your `Conv2D` call to the Keras 2 API: `Conv2D(64, (4, 4), strides=(2, 2), padding=\"same\")`\n",
      "  \n",
      "C:\\Users\\ravi7\\Anaconda3\\lib\\site-packages\\ipykernel_launcher.py:8: UserWarning: Update your `Conv2D` call to the Keras 2 API: `Conv2D(64, (3, 3), strides=(1, 1), padding=\"same\")`\n",
      "  \n"
     ]
    }
   ],
   "source": [
    "from keras.utils import plot_model\n",
    "import os\n",
    "os.environ[\"PATH\"] += os.pathsep + 'C:/Program Files (x86)/Graphviz2.38/bin/'\n",
    "view_mode = buildmodel()\n",
    "view_mode.load_weights(\"model.h5\")\n",
    "adam = Adam(lr=LEARNING_RATE)\n",
    "view_mode.compile(loss='mse',optimizer=adam)\n",
    "plot_model(view_mode, to_file='model.png')"
   ]
  },
  {
   "cell_type": "code",
   "execution_count": null,
   "metadata": {
    "collapsed": true
   },
   "outputs": [],
   "source": [
    "import pydot"
   ]
  },
  {
   "cell_type": "code",
   "execution_count": null,
   "metadata": {
    "collapsed": true
   },
   "outputs": [],
   "source": []
  }
 ],
 "metadata": {
  "kernelspec": {
   "display_name": "Python 3",
   "language": "python",
   "name": "python3"
  },
  "language_info": {
   "codemirror_mode": {
    "name": "ipython",
    "version": 3
   },
   "file_extension": ".py",
   "mimetype": "text/x-python",
   "name": "python",
   "nbconvert_exporter": "python",
   "pygments_lexer": "ipython3",
   "version": "3.6.3"
  }
 },
 "nbformat": 4,
 "nbformat_minor": 2
}
